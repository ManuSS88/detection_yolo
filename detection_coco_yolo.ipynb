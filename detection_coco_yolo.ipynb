{
  "nbformat": 4,
  "nbformat_minor": 0,
  "metadata": {
    "colab": {
      "provenance": [],
      "gpuType": "T4",
      "authorship_tag": "ABX9TyNxRC6MEO7lrMk9ueo1HkhH",
      "include_colab_link": true
    },
    "kernelspec": {
      "name": "python3",
      "display_name": "Python 3"
    },
    "language_info": {
      "name": "python"
    },
    "accelerator": "GPU"
  },
  "cells": [
    {
      "cell_type": "markdown",
      "metadata": {
        "id": "view-in-github",
        "colab_type": "text"
      },
      "source": [
        "<a href=\"https://colab.research.google.com/github/ManuSS88/detection_yolo/blob/main/detection_coco_yolo.ipynb\" target=\"_parent\"><img src=\"https://colab.research.google.com/assets/colab-badge.svg\" alt=\"Open In Colab\"/></a>"
      ]
    },
    {
      "cell_type": "markdown",
      "source": [],
      "metadata": {
        "id": "4TmtLxojjo0q"
      }
    },
    {
      "cell_type": "markdown",
      "metadata": {
        "id": "G4J9sFi39ScM"
      },
      "source": [
        "## Passo 0. Configurar runtime para utilizar a GPU\n",
        "Minha conta gratuita permite apenas a GPU de back-end do Google Compute Engine em Python 3\n",
        "\n",
        "Usar **12GB-RAM GPU**\n",
        "\n",
        "Go to **> Menu > Runtime > Configure Runtime Type** And select **GPU** From the **Hardware accelerator** drop down meu"
      ]
    },
    {
      "cell_type": "markdown",
      "source": [
        "## Passo 1 Conectar arquivos ao Google Drive\n",
        "\n",
        "Criar uma pasta no google drive com o nome *darknet*"
      ],
      "metadata": {
        "id": "8fBDDMebqZ0n"
      }
    },
    {
      "cell_type": "markdown",
      "source": [
        "## Passo 2 Conectar o notebook do Colab ao Drive\n",
        "\n",
        "Executar a linha de código abaico e clicar no link que autoriza seu notebook a acessar o seu Google Drive.\n",
        "\n",
        "Colar o código que o Google fornecerá e pressionar Enter"
      ],
      "metadata": {
        "id": "Qs1ycgY4rMFD"
      }
    },
    {
      "cell_type": "code",
      "source": [
        "# This cell imports the drive library and mounts your Google Drive as a VM local drive. You can access to your Drive files\n",
        "# using this path \"/content/gdrive/My Drive/\"\n",
        "\n",
        "from google.colab import drive\n",
        "drive.mount('/content/gdrive')"
      ],
      "metadata": {
        "colab": {
          "base_uri": "https://localhost:8080/"
        },
        "id": "SZ9fXXLJrQwK",
        "outputId": "8669e19a-28dd-4290-cc70-784a4198e69f"
      },
      "execution_count": 1,
      "outputs": [
        {
          "output_type": "stream",
          "name": "stdout",
          "text": [
            "Mounted at /content/gdrive\n"
          ]
        }
      ]
    },
    {
      "cell_type": "markdown",
      "source": [],
      "metadata": {
        "id": "vWICjWy1rQOt"
      }
    },
    {
      "cell_type": "code",
      "execution_count": null,
      "metadata": {
        "id": "8WKIemZ7dkoQ"
      },
      "outputs": [],
      "source": []
    }
  ]
}