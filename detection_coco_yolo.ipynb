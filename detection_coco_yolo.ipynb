{
  "nbformat": 4,
  "nbformat_minor": 0,
  "metadata": {
    "colab": {
      "provenance": [],
      "gpuType": "T4",
      "authorship_tag": "ABX9TyPoyolWQS3cVFYX7Upws1OG",
      "include_colab_link": true
    },
    "kernelspec": {
      "name": "python3",
      "display_name": "Python 3"
    },
    "language_info": {
      "name": "python"
    },
    "accelerator": "GPU"
  },
  "cells": [
    {
      "cell_type": "markdown",
      "metadata": {
        "id": "view-in-github",
        "colab_type": "text"
      },
      "source": [
        "<a href=\"https://colab.research.google.com/github/ManuSS88/detection_yolo/blob/main/detection_coco_yolo.ipynb\" target=\"_parent\"><img src=\"https://colab.research.google.com/assets/colab-badge.svg\" alt=\"Open In Colab\"/></a>"
      ]
    },
    {
      "cell_type": "markdown",
      "source": [],
      "metadata": {
        "id": "4TmtLxojjo0q"
      }
    },
    {
      "cell_type": "markdown",
      "metadata": {
        "id": "G4J9sFi39ScM"
      },
      "source": [
        "## Passo 0. Configurar runtime para utilizar a GPU\n",
        "Minha conta gratuita permite apenas a GPU de back-end do Google Compute Engine em Python 3\n",
        "\n",
        "Usar **12GB-RAM GPU**\n",
        "\n",
        "Go to **> Menu > Runtime > Configure Runtime Type** And select **GPU** From the **Hardware accelerator** drop down meu"
      ]
    },
    {
      "cell_type": "code",
      "execution_count": null,
      "metadata": {
        "id": "8WKIemZ7dkoQ"
      },
      "outputs": [],
      "source": []
    }
  ]
}